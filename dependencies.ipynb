{
 "cells": [
  {
   "cell_type": "code",
   "execution_count": 1,
   "id": "ac3b8fa1",
   "metadata": {},
   "outputs": [
    {
     "name": "stdout",
     "output_type": "stream",
     "text": [
      "Collecting pickle5\n",
      "  Downloading pickle5-0.0.12-cp37-cp37m-win_amd64.whl (124 kB)\n",
      "     ------------------------------------ 124.7/124.7 kB 430.2 kB/s eta 0:00:00\n",
      "Installing collected packages: pickle5\n",
      "Successfully installed pickle5-0.0.12\n"
     ]
    }
   ],
   "source": [
    "!pip install pickle5"
   ]
  },
  {
   "cell_type": "code",
   "execution_count": 2,
   "id": "cf252647",
   "metadata": {},
   "outputs": [
    {
     "name": "stdout",
     "output_type": "stream",
     "text": [
      "Collecting streamlit\n",
      "  Downloading streamlit-1.22.0-py2.py3-none-any.whl (8.9 MB)\n",
      "     ---------------------------------------- 8.9/8.9 MB 478.2 kB/s eta 0:00:00\n",
      "Requirement already satisfied: python-dateutil in c:\\users\\hp\\anaconda3\\envs\\new\\lib\\site-packages (from streamlit) (2.8.2)\n",
      "Collecting validators>=0.2\n",
      "  Downloading validators-0.20.0.tar.gz (30 kB)\n",
      "  Preparing metadata (setup.py): started\n",
      "  Preparing metadata (setup.py): finished with status 'done'\n",
      "Collecting altair<5,>=3.2.0\n",
      "  Downloading altair-4.2.2-py3-none-any.whl (813 kB)\n",
      "     ------------------------------------ 813.6/813.6 kB 634.6 kB/s eta 0:00:00\n",
      "Collecting click>=7.0\n",
      "  Downloading click-8.1.3-py3-none-any.whl (96 kB)\n",
      "     ---------------------------------------- 96.6/96.6 kB 1.1 MB/s eta 0:00:00\n",
      "Collecting requests>=2.4\n",
      "  Downloading requests-2.30.0-py3-none-any.whl (62 kB)\n",
      "     -------------------------------------- 62.5/62.5 kB 561.8 kB/s eta 0:00:00\n",
      "Requirement already satisfied: pandas<3,>=0.25 in c:\\users\\hp\\anaconda3\\envs\\new\\lib\\site-packages (from streamlit) (1.3.5)\n",
      "Collecting pydeck>=0.1.dev5\n",
      "  Downloading pydeck-0.8.1b0-py2.py3-none-any.whl (4.8 MB)\n",
      "     ---------------------------------------- 4.8/4.8 MB 615.1 kB/s eta 0:00:00\n",
      "Requirement already satisfied: importlib-metadata>=1.4 in c:\\users\\hp\\anaconda3\\envs\\new\\lib\\site-packages (from streamlit) (4.11.3)\n",
      "Collecting pyarrow>=4.0\n",
      "  Downloading pyarrow-12.0.0-cp37-cp37m-win_amd64.whl (21.5 MB)\n",
      "     -------------------------------------- 21.5/21.5 MB 318.0 kB/s eta 0:00:00\n",
      "Collecting rich>=10.11.0\n",
      "  Downloading rich-13.3.5-py3-none-any.whl (238 kB)\n",
      "     ------------------------------------ 238.7/238.7 kB 317.8 kB/s eta 0:00:00\n",
      "Collecting gitpython!=3.1.19\n",
      "  Downloading GitPython-3.1.31-py3-none-any.whl (184 kB)\n",
      "     ------------------------------------ 184.3/184.3 kB 696.4 kB/s eta 0:00:00\n",
      "Collecting cachetools>=4.0\n",
      "  Downloading cachetools-5.3.0-py3-none-any.whl (9.3 kB)\n",
      "Collecting tenacity<9,>=8.0.0\n",
      "  Downloading tenacity-8.2.2-py3-none-any.whl (24 kB)\n",
      "Collecting watchdog\n",
      "  Downloading watchdog-3.0.0-py3-none-win_amd64.whl (82 kB)\n",
      "     -------------------------------------- 82.0/82.0 kB 574.4 kB/s eta 0:00:00\n",
      "Collecting pillow>=6.2.0\n",
      "  Downloading Pillow-9.5.0-cp37-cp37m-win_amd64.whl (2.5 MB)\n",
      "     ---------------------------------------- 2.5/2.5 MB 356.9 kB/s eta 0:00:00\n",
      "Collecting tzlocal>=1.1\n",
      "  Downloading tzlocal-4.3-py3-none-any.whl (20 kB)\n",
      "Collecting protobuf<4,>=3.12\n",
      "  Downloading protobuf-3.20.3-cp37-cp37m-win_amd64.whl (905 kB)\n",
      "     ------------------------------------ 905.1/905.1 kB 369.6 kB/s eta 0:00:00\n",
      "Collecting blinker>=1.0.0\n",
      "  Downloading blinker-1.6.2-py3-none-any.whl (13 kB)\n",
      "Collecting toml\n",
      "  Downloading toml-0.10.2-py2.py3-none-any.whl (16 kB)\n",
      "Collecting pympler>=0.9\n",
      "  Downloading Pympler-1.0.1-py3-none-any.whl (164 kB)\n",
      "     ------------------------------------ 164.8/164.8 kB 291.1 kB/s eta 0:00:00\n",
      "Requirement already satisfied: tornado>=6.0.3 in c:\\users\\hp\\anaconda3\\envs\\new\\lib\\site-packages (from streamlit) (6.2)\n",
      "Requirement already satisfied: numpy in c:\\users\\hp\\anaconda3\\envs\\new\\lib\\site-packages (from streamlit) (1.21.6)\n",
      "Requirement already satisfied: packaging>=14.1 in c:\\users\\hp\\anaconda3\\envs\\new\\lib\\site-packages (from streamlit) (22.0)\n",
      "Requirement already satisfied: typing-extensions>=3.10.0.0 in c:\\users\\hp\\anaconda3\\envs\\new\\lib\\site-packages (from streamlit) (4.3.0)\n",
      "Collecting toolz\n",
      "  Downloading toolz-0.12.0-py3-none-any.whl (55 kB)\n",
      "     -------------------------------------- 55.8/55.8 kB 208.2 kB/s eta 0:00:00\n",
      "Requirement already satisfied: jinja2 in c:\\users\\hp\\anaconda3\\envs\\new\\lib\\site-packages (from altair<5,>=3.2.0->streamlit) (3.1.2)\n",
      "Requirement already satisfied: jsonschema>=3.0 in c:\\users\\hp\\anaconda3\\envs\\new\\lib\\site-packages (from altair<5,>=3.2.0->streamlit) (4.17.3)\n",
      "Requirement already satisfied: entrypoints in c:\\users\\hp\\anaconda3\\envs\\new\\lib\\site-packages (from altair<5,>=3.2.0->streamlit) (0.4)\n",
      "Requirement already satisfied: colorama in c:\\users\\hp\\anaconda3\\envs\\new\\lib\\site-packages (from click>=7.0->streamlit) (0.4.6)\n",
      "Collecting gitdb<5,>=4.0.1\n",
      "  Downloading gitdb-4.0.10-py3-none-any.whl (62 kB)\n",
      "     -------------------------------------- 62.7/62.7 kB 197.3 kB/s eta 0:00:00\n",
      "Requirement already satisfied: zipp>=0.5 in c:\\users\\hp\\anaconda3\\envs\\new\\lib\\site-packages (from importlib-metadata>=1.4->streamlit) (3.11.0)\n",
      "Requirement already satisfied: pytz>=2017.3 in c:\\users\\hp\\anaconda3\\envs\\new\\lib\\site-packages (from pandas<3,>=0.25->streamlit) (2023.3)\n",
      "Requirement already satisfied: six>=1.5 in c:\\users\\hp\\anaconda3\\envs\\new\\lib\\site-packages (from python-dateutil->streamlit) (1.16.0)\n",
      "Collecting charset-normalizer<4,>=2\n",
      "  Downloading charset_normalizer-3.1.0-cp37-cp37m-win_amd64.whl (94 kB)\n",
      "     -------------------------------------- 94.6/94.6 kB 186.2 kB/s eta 0:00:00\n",
      "Requirement already satisfied: idna<4,>=2.5 in c:\\users\\hp\\anaconda3\\envs\\new\\lib\\site-packages (from requests>=2.4->streamlit) (3.4)\n",
      "Requirement already satisfied: certifi>=2017.4.17 in c:\\users\\hp\\anaconda3\\envs\\new\\lib\\site-packages (from requests>=2.4->streamlit) (2022.12.7)\n",
      "Collecting urllib3<3,>=1.21.1\n",
      "  Downloading urllib3-2.0.2-py3-none-any.whl (123 kB)\n",
      "     ------------------------------------ 123.2/123.2 kB 452.0 kB/s eta 0:00:00\n",
      "Collecting markdown-it-py<3.0.0,>=2.2.0\n",
      "  Downloading markdown_it_py-2.2.0-py3-none-any.whl (84 kB)\n",
      "     -------------------------------------- 84.5/84.5 kB 237.1 kB/s eta 0:00:00\n",
      "Collecting pygments<3.0.0,>=2.13.0\n",
      "  Downloading Pygments-2.15.1-py3-none-any.whl (1.1 MB)\n",
      "     ---------------------------------------- 1.1/1.1 MB 542.8 kB/s eta 0:00:00\n",
      "Collecting pytz-deprecation-shim\n",
      "  Downloading pytz_deprecation_shim-0.1.0.post0-py2.py3-none-any.whl (15 kB)\n",
      "Collecting tzdata\n",
      "  Downloading tzdata-2023.3-py2.py3-none-any.whl (341 kB)\n",
      "     ------------------------------------ 341.8/341.8 kB 758.8 kB/s eta 0:00:00\n",
      "Collecting backports.zoneinfo\n",
      "  Downloading backports.zoneinfo-0.2.1-cp37-cp37m-win_amd64.whl (38 kB)\n",
      "Requirement already satisfied: decorator>=3.4.0 in c:\\users\\hp\\anaconda3\\envs\\new\\lib\\site-packages (from validators>=0.2->streamlit) (5.1.1)\n",
      "Collecting smmap<6,>=3.0.1\n",
      "  Downloading smmap-5.0.0-py3-none-any.whl (24 kB)\n",
      "Requirement already satisfied: MarkupSafe>=2.0 in c:\\users\\hp\\anaconda3\\envs\\new\\lib\\site-packages (from jinja2->altair<5,>=3.2.0->streamlit) (2.1.1)\n",
      "Requirement already satisfied: pyrsistent!=0.17.0,!=0.17.1,!=0.17.2,>=0.14.0 in c:\\users\\hp\\anaconda3\\envs\\new\\lib\\site-packages (from jsonschema>=3.0->altair<5,>=3.2.0->streamlit) (0.18.0)\n",
      "Requirement already satisfied: importlib-resources>=1.4.0 in c:\\users\\hp\\anaconda3\\envs\\new\\lib\\site-packages (from jsonschema>=3.0->altair<5,>=3.2.0->streamlit) (5.2.0)\n",
      "Requirement already satisfied: pkgutil-resolve-name>=1.3.10 in c:\\users\\hp\\anaconda3\\envs\\new\\lib\\site-packages (from jsonschema>=3.0->altair<5,>=3.2.0->streamlit) (1.3.10)\n",
      "Requirement already satisfied: attrs>=17.4.0 in c:\\users\\hp\\anaconda3\\envs\\new\\lib\\site-packages (from jsonschema>=3.0->altair<5,>=3.2.0->streamlit) (22.1.0)\n",
      "Collecting mdurl~=0.1\n",
      "  Downloading mdurl-0.1.2-py3-none-any.whl (10.0 kB)\n",
      "Building wheels for collected packages: validators\n",
      "  Building wheel for validators (setup.py): started\n",
      "  Building wheel for validators (setup.py): finished with status 'done'\n",
      "  Created wheel for validators: filename=validators-0.20.0-py3-none-any.whl size=19591 sha256=a1ed3ab9bcc6013e80c3cfaf550299e631bfff86c5ebd6fe1453a3c585d3f5a7\n",
      "  Stored in directory: c:\\users\\hp\\appdata\\local\\pip\\cache\\wheels\\3d\\7c\\f1\\f87f51d07a2513aa0fb128d5eb504da1fcef9c87475d9eef64\n",
      "Successfully built validators\n",
      "Installing collected packages: watchdog, validators, urllib3, tzdata, toolz, toml, tenacity, smmap, pympler, pygments, pyarrow, protobuf, pillow, mdurl, charset-normalizer, cachetools, blinker, backports.zoneinfo, requests, pytz-deprecation-shim, pydeck, markdown-it-py, gitdb, click, tzlocal, rich, gitpython, altair, streamlit\n",
      "  Attempting uninstall: pygments\n",
      "    Found existing installation: Pygments 2.11.2\n",
      "    Uninstalling Pygments-2.11.2:\n",
      "      Successfully uninstalled Pygments-2.11.2\n",
      "Successfully installed altair-4.2.2 backports.zoneinfo-0.2.1 blinker-1.6.2 cachetools-5.3.0 charset-normalizer-3.1.0 click-8.1.3 gitdb-4.0.10 gitpython-3.1.31 markdown-it-py-2.2.0 mdurl-0.1.2 pillow-9.5.0 protobuf-3.20.3 pyarrow-12.0.0 pydeck-0.8.1b0 pygments-2.15.1 pympler-1.0.1 pytz-deprecation-shim-0.1.0.post0 requests-2.30.0 rich-13.3.5 smmap-5.0.0 streamlit-1.22.0 tenacity-8.2.2 toml-0.10.2 toolz-0.12.0 tzdata-2023.3 tzlocal-4.3 urllib3-2.0.2 validators-0.20.0 watchdog-3.0.0\n"
     ]
    }
   ],
   "source": [
    "!pip install streamlit"
   ]
  },
  {
   "cell_type": "code",
   "execution_count": 3,
   "id": "48354247",
   "metadata": {},
   "outputs": [
    {
     "name": "stdout",
     "output_type": "stream",
     "text": [
      "Collecting streamlit-option-menu\n",
      "  Downloading streamlit_option_menu-0.3.2-py3-none-any.whl (712 kB)\n",
      "     ------------------------------------ 712.3/712.3 kB 228.1 kB/s eta 0:00:00\n",
      "Requirement already satisfied: streamlit>=0.63 in c:\\users\\hp\\anaconda3\\envs\\new\\lib\\site-packages (from streamlit-option-menu) (1.22.0)\n",
      "Requirement already satisfied: toml in c:\\users\\hp\\anaconda3\\envs\\new\\lib\\site-packages (from streamlit>=0.63->streamlit-option-menu) (0.10.2)\n",
      "Requirement already satisfied: blinker>=1.0.0 in c:\\users\\hp\\anaconda3\\envs\\new\\lib\\site-packages (from streamlit>=0.63->streamlit-option-menu) (1.6.2)\n",
      "Requirement already satisfied: validators>=0.2 in c:\\users\\hp\\anaconda3\\envs\\new\\lib\\site-packages (from streamlit>=0.63->streamlit-option-menu) (0.20.0)\n",
      "Requirement already satisfied: watchdog in c:\\users\\hp\\anaconda3\\envs\\new\\lib\\site-packages (from streamlit>=0.63->streamlit-option-menu) (3.0.0)\n",
      "Requirement already satisfied: typing-extensions>=3.10.0.0 in c:\\users\\hp\\anaconda3\\envs\\new\\lib\\site-packages (from streamlit>=0.63->streamlit-option-menu) (4.3.0)\n",
      "Requirement already satisfied: pympler>=0.9 in c:\\users\\hp\\anaconda3\\envs\\new\\lib\\site-packages (from streamlit>=0.63->streamlit-option-menu) (1.0.1)\n",
      "Requirement already satisfied: pyarrow>=4.0 in c:\\users\\hp\\anaconda3\\envs\\new\\lib\\site-packages (from streamlit>=0.63->streamlit-option-menu) (12.0.0)\n",
      "Requirement already satisfied: packaging>=14.1 in c:\\users\\hp\\anaconda3\\envs\\new\\lib\\site-packages (from streamlit>=0.63->streamlit-option-menu) (22.0)\n",
      "Requirement already satisfied: tenacity<9,>=8.0.0 in c:\\users\\hp\\anaconda3\\envs\\new\\lib\\site-packages (from streamlit>=0.63->streamlit-option-menu) (8.2.2)\n",
      "Requirement already satisfied: gitpython!=3.1.19 in c:\\users\\hp\\anaconda3\\envs\\new\\lib\\site-packages (from streamlit>=0.63->streamlit-option-menu) (3.1.31)\n",
      "Requirement already satisfied: click>=7.0 in c:\\users\\hp\\anaconda3\\envs\\new\\lib\\site-packages (from streamlit>=0.63->streamlit-option-menu) (8.1.3)\n",
      "Requirement already satisfied: numpy in c:\\users\\hp\\anaconda3\\envs\\new\\lib\\site-packages (from streamlit>=0.63->streamlit-option-menu) (1.21.6)\n",
      "Requirement already satisfied: tzlocal>=1.1 in c:\\users\\hp\\anaconda3\\envs\\new\\lib\\site-packages (from streamlit>=0.63->streamlit-option-menu) (4.3)\n",
      "Requirement already satisfied: requests>=2.4 in c:\\users\\hp\\anaconda3\\envs\\new\\lib\\site-packages (from streamlit>=0.63->streamlit-option-menu) (2.30.0)\n",
      "Requirement already satisfied: python-dateutil in c:\\users\\hp\\anaconda3\\envs\\new\\lib\\site-packages (from streamlit>=0.63->streamlit-option-menu) (2.8.2)\n",
      "Requirement already satisfied: pydeck>=0.1.dev5 in c:\\users\\hp\\anaconda3\\envs\\new\\lib\\site-packages (from streamlit>=0.63->streamlit-option-menu) (0.8.1b0)\n",
      "Requirement already satisfied: protobuf<4,>=3.12 in c:\\users\\hp\\anaconda3\\envs\\new\\lib\\site-packages (from streamlit>=0.63->streamlit-option-menu) (3.20.3)\n",
      "Requirement already satisfied: tornado>=6.0.3 in c:\\users\\hp\\anaconda3\\envs\\new\\lib\\site-packages (from streamlit>=0.63->streamlit-option-menu) (6.2)\n",
      "Requirement already satisfied: importlib-metadata>=1.4 in c:\\users\\hp\\anaconda3\\envs\\new\\lib\\site-packages (from streamlit>=0.63->streamlit-option-menu) (4.11.3)\n",
      "Requirement already satisfied: cachetools>=4.0 in c:\\users\\hp\\anaconda3\\envs\\new\\lib\\site-packages (from streamlit>=0.63->streamlit-option-menu) (5.3.0)\n",
      "Requirement already satisfied: altair<5,>=3.2.0 in c:\\users\\hp\\anaconda3\\envs\\new\\lib\\site-packages (from streamlit>=0.63->streamlit-option-menu) (4.2.2)\n",
      "Requirement already satisfied: pandas<3,>=0.25 in c:\\users\\hp\\anaconda3\\envs\\new\\lib\\site-packages (from streamlit>=0.63->streamlit-option-menu) (1.3.5)\n",
      "Requirement already satisfied: rich>=10.11.0 in c:\\users\\hp\\anaconda3\\envs\\new\\lib\\site-packages (from streamlit>=0.63->streamlit-option-menu) (13.3.5)\n",
      "Requirement already satisfied: pillow>=6.2.0 in c:\\users\\hp\\anaconda3\\envs\\new\\lib\\site-packages (from streamlit>=0.63->streamlit-option-menu) (9.5.0)\n",
      "Requirement already satisfied: toolz in c:\\users\\hp\\anaconda3\\envs\\new\\lib\\site-packages (from altair<5,>=3.2.0->streamlit>=0.63->streamlit-option-menu) (0.12.0)\n",
      "Requirement already satisfied: jinja2 in c:\\users\\hp\\anaconda3\\envs\\new\\lib\\site-packages (from altair<5,>=3.2.0->streamlit>=0.63->streamlit-option-menu) (3.1.2)\n",
      "Requirement already satisfied: entrypoints in c:\\users\\hp\\anaconda3\\envs\\new\\lib\\site-packages (from altair<5,>=3.2.0->streamlit>=0.63->streamlit-option-menu) (0.4)\n",
      "Requirement already satisfied: jsonschema>=3.0 in c:\\users\\hp\\anaconda3\\envs\\new\\lib\\site-packages (from altair<5,>=3.2.0->streamlit>=0.63->streamlit-option-menu) (4.17.3)\n",
      "Requirement already satisfied: colorama in c:\\users\\hp\\anaconda3\\envs\\new\\lib\\site-packages (from click>=7.0->streamlit>=0.63->streamlit-option-menu) (0.4.6)\n",
      "Requirement already satisfied: gitdb<5,>=4.0.1 in c:\\users\\hp\\anaconda3\\envs\\new\\lib\\site-packages (from gitpython!=3.1.19->streamlit>=0.63->streamlit-option-menu) (4.0.10)\n",
      "Requirement already satisfied: zipp>=0.5 in c:\\users\\hp\\anaconda3\\envs\\new\\lib\\site-packages (from importlib-metadata>=1.4->streamlit>=0.63->streamlit-option-menu) (3.11.0)\n",
      "Requirement already satisfied: pytz>=2017.3 in c:\\users\\hp\\anaconda3\\envs\\new\\lib\\site-packages (from pandas<3,>=0.25->streamlit>=0.63->streamlit-option-menu) (2023.3)\n",
      "Requirement already satisfied: six>=1.5 in c:\\users\\hp\\anaconda3\\envs\\new\\lib\\site-packages (from python-dateutil->streamlit>=0.63->streamlit-option-menu) (1.16.0)\n",
      "Requirement already satisfied: urllib3<3,>=1.21.1 in c:\\users\\hp\\anaconda3\\envs\\new\\lib\\site-packages (from requests>=2.4->streamlit>=0.63->streamlit-option-menu) (2.0.2)\n",
      "Requirement already satisfied: charset-normalizer<4,>=2 in c:\\users\\hp\\anaconda3\\envs\\new\\lib\\site-packages (from requests>=2.4->streamlit>=0.63->streamlit-option-menu) (3.1.0)\n",
      "Requirement already satisfied: certifi>=2017.4.17 in c:\\users\\hp\\anaconda3\\envs\\new\\lib\\site-packages (from requests>=2.4->streamlit>=0.63->streamlit-option-menu) (2022.12.7)\n",
      "Requirement already satisfied: idna<4,>=2.5 in c:\\users\\hp\\anaconda3\\envs\\new\\lib\\site-packages (from requests>=2.4->streamlit>=0.63->streamlit-option-menu) (3.4)\n",
      "Requirement already satisfied: markdown-it-py<3.0.0,>=2.2.0 in c:\\users\\hp\\anaconda3\\envs\\new\\lib\\site-packages (from rich>=10.11.0->streamlit>=0.63->streamlit-option-menu) (2.2.0)\n",
      "Requirement already satisfied: pygments<3.0.0,>=2.13.0 in c:\\users\\hp\\anaconda3\\envs\\new\\lib\\site-packages (from rich>=10.11.0->streamlit>=0.63->streamlit-option-menu) (2.15.1)\n",
      "Requirement already satisfied: backports.zoneinfo in c:\\users\\hp\\anaconda3\\envs\\new\\lib\\site-packages (from tzlocal>=1.1->streamlit>=0.63->streamlit-option-menu) (0.2.1)\n",
      "Requirement already satisfied: tzdata in c:\\users\\hp\\anaconda3\\envs\\new\\lib\\site-packages (from tzlocal>=1.1->streamlit>=0.63->streamlit-option-menu) (2023.3)\n",
      "Requirement already satisfied: pytz-deprecation-shim in c:\\users\\hp\\anaconda3\\envs\\new\\lib\\site-packages (from tzlocal>=1.1->streamlit>=0.63->streamlit-option-menu) (0.1.0.post0)\n",
      "Requirement already satisfied: decorator>=3.4.0 in c:\\users\\hp\\anaconda3\\envs\\new\\lib\\site-packages (from validators>=0.2->streamlit>=0.63->streamlit-option-menu) (5.1.1)\n",
      "Requirement already satisfied: smmap<6,>=3.0.1 in c:\\users\\hp\\anaconda3\\envs\\new\\lib\\site-packages (from gitdb<5,>=4.0.1->gitpython!=3.1.19->streamlit>=0.63->streamlit-option-menu) (5.0.0)\n",
      "Requirement already satisfied: MarkupSafe>=2.0 in c:\\users\\hp\\anaconda3\\envs\\new\\lib\\site-packages (from jinja2->altair<5,>=3.2.0->streamlit>=0.63->streamlit-option-menu) (2.1.1)\n",
      "Requirement already satisfied: pyrsistent!=0.17.0,!=0.17.1,!=0.17.2,>=0.14.0 in c:\\users\\hp\\anaconda3\\envs\\new\\lib\\site-packages (from jsonschema>=3.0->altair<5,>=3.2.0->streamlit>=0.63->streamlit-option-menu) (0.18.0)\n",
      "Requirement already satisfied: pkgutil-resolve-name>=1.3.10 in c:\\users\\hp\\anaconda3\\envs\\new\\lib\\site-packages (from jsonschema>=3.0->altair<5,>=3.2.0->streamlit>=0.63->streamlit-option-menu) (1.3.10)\n",
      "Requirement already satisfied: attrs>=17.4.0 in c:\\users\\hp\\anaconda3\\envs\\new\\lib\\site-packages (from jsonschema>=3.0->altair<5,>=3.2.0->streamlit>=0.63->streamlit-option-menu) (22.1.0)\n",
      "Requirement already satisfied: importlib-resources>=1.4.0 in c:\\users\\hp\\anaconda3\\envs\\new\\lib\\site-packages (from jsonschema>=3.0->altair<5,>=3.2.0->streamlit>=0.63->streamlit-option-menu) (5.2.0)\n",
      "Requirement already satisfied: mdurl~=0.1 in c:\\users\\hp\\anaconda3\\envs\\new\\lib\\site-packages (from markdown-it-py<3.0.0,>=2.2.0->rich>=10.11.0->streamlit>=0.63->streamlit-option-menu) (0.1.2)\n",
      "Installing collected packages: streamlit-option-menu\n",
      "Successfully installed streamlit-option-menu-0.3.2\n"
     ]
    }
   ],
   "source": [
    "!pip install streamlit-option-menu"
   ]
  },
  {
   "cell_type": "code",
   "execution_count": 4,
   "id": "3211fd2a",
   "metadata": {},
   "outputs": [
    {
     "name": "stdout",
     "output_type": "stream",
     "text": [
      "Requirement already satisfied: pyqt5 in c:\\users\\hp\\anaconda3\\envs\\new\\lib\\site-packages (5.15.7)\n",
      "Requirement already satisfied: PyQt5-sip<13,>=12.11 in c:\\users\\hp\\anaconda3\\envs\\new\\lib\\site-packages (from pyqt5) (12.11.0)\n"
     ]
    }
   ],
   "source": [
    "!pip install pyqt5"
   ]
  },
  {
   "cell_type": "code",
   "execution_count": 5,
   "id": "6b745d80",
   "metadata": {},
   "outputs": [
    {
     "name": "stdout",
     "output_type": "stream",
     "text": [
      "^C\n"
     ]
    }
   ],
   "source": [
    "!pip uninstall PyQt5"
   ]
  },
  {
   "cell_type": "code",
   "execution_count": null,
   "id": "46695a17",
   "metadata": {},
   "outputs": [],
   "source": []
  }
 ],
 "metadata": {
  "kernelspec": {
   "display_name": "Python 3 (ipykernel)",
   "language": "python",
   "name": "python3"
  },
  "language_info": {
   "codemirror_mode": {
    "name": "ipython",
    "version": 3
   },
   "file_extension": ".py",
   "mimetype": "text/x-python",
   "name": "python",
   "nbconvert_exporter": "python",
   "pygments_lexer": "ipython3",
   "version": "3.7.16"
  }
 },
 "nbformat": 4,
 "nbformat_minor": 5
}
